{
 "cells": [
  {
   "cell_type": "markdown",
   "id": "6ff8d9b1",
   "metadata": {},
   "source": [
    "## 下準備"
   ]
  },
  {
   "cell_type": "code",
   "execution_count": null,
   "id": "f78a721b",
   "metadata": {},
   "outputs": [],
   "source": [
    "import pandas as pd\n",
    "from utils.big_query import BigQuery\n",
    "from utils.request_llm import request_openai_chat,request_openai_embedding\n",
    "import json\n",
    "from search.original_vector_search import original_vector_search\n",
    "from search.vector_search import vector_search\n",
    "import const\n",
    "import prompt\n",
    "from utils.calc import calc_cos_similarity"
   ]
  },
  {
   "cell_type": "markdown",
   "id": "99906725",
   "metadata": {},
   "source": [
    "## データフレーム"
   ]
  },
  {
   "cell_type": "code",
   "execution_count": null,
   "id": "e70dba54",
   "metadata": {},
   "outputs": [],
   "source": [
    "big_query = BigQuery(const.PROJECT_ID, const.DATASET_ID)\n",
    "df_1000 = big_query.get_table_as_df(\"label_dataset_1000\")\n",
    "df_1000.head()\n"
   ]
  },
  {
   "cell_type": "markdown",
   "id": "bfcdab58",
   "metadata": {},
   "source": [
    "## 回答生成"
   ]
  },
  {
   "cell_type": "code",
   "execution_count": null,
   "id": "dbd51d4f",
   "metadata": {},
   "outputs": [],
   "source": [
    "search_text = \"リーンキャンバスにおける独自の価値提案を書く際のポイントについて教えてください\"\n",
    "text = original_vector_search(search_text,df_1000)\n",
    "for line in text:\n",
    "    print(line)\n",
    "    print(\"-------------------------------\")\n",
    "content = prompt.answer_prompt.format(\n",
    "    question=search_text, text=text, format=prompt.answer_format\n",
    ")\n",
    "response = request_openai_chat(prompt.system_prompt, content)\n",
    "print(response[\"answer\"])"
   ]
  },
  {
   "cell_type": "code",
   "execution_count": null,
   "id": "2947435d",
   "metadata": {},
   "outputs": [],
   "source": [
    "search_text = \"リーンキャンバスにおける独自の価値提案を書く際のポイントについて教えてください\"\n",
    "text = vector_search(search_text,df_1000)\n",
    "for line in text:\n",
    "    print(line)\n",
    "    print(\"-------------------------------\")\n",
    "content = prompt.answer_prompt.format(\n",
    "    question=search_text, text=text, format=prompt.answer_format\n",
    ")\n",
    "response = request_openai_chat(prompt.system_prompt, content)\n",
    "print(response[\"answer\"])"
   ]
  },
  {
   "cell_type": "code",
   "execution_count": null,
   "id": "e5d20e10",
   "metadata": {
    "scrolled": true
   },
   "outputs": [],
   "source": [
    "search_text = \"ダーティーエクスペリエンスについて教えてください\"\n",
    "text = original_vector_search(search_text,df_1000)\n",
    "for line in text:\n",
    "    print(line)\n",
    "    print(\"-------------------------------\")\n",
    "\n",
    "content = prompt.answer_prompt.format(\n",
    "    question=search_text, text=text, format=prompt.answer_format\n",
    ")\n",
    "response = request_openai_chat(prompt.system_prompt, content)\n",
    "print(response[\"answer\"])"
   ]
  },
  {
   "cell_type": "code",
   "execution_count": null,
   "id": "426f2091",
   "metadata": {},
   "outputs": [],
   "source": [
    "search_text = \"ダーティーエクスペリエンスについて教えてください\"\n",
    "text = vector_search(search_text,df_1000)\n",
    "for line in text:\n",
    "    print(line)\n",
    "    print(\"-------------------------------\")\n",
    "content = prompt.answer_prompt.format(\n",
    "    question=search_text, text=text, format=prompt.answer_format\n",
    ")\n",
    "response = request_openai_chat(prompt.system_prompt, content)\n",
    "print(response[\"answer\"])"
   ]
  },
  {
   "cell_type": "code",
   "execution_count": null,
   "id": "f19166e1",
   "metadata": {},
   "outputs": [],
   "source": []
  },
  {
   "cell_type": "code",
   "execution_count": null,
   "id": "4b9dfc7b",
   "metadata": {},
   "outputs": [],
   "source": []
  }
 ],
 "metadata": {
  "kernelspec": {
   "display_name": "Python 3 (ipykernel)",
   "language": "python",
   "name": "python3"
  },
  "language_info": {
   "codemirror_mode": {
    "name": "ipython",
    "version": 3
   },
   "file_extension": ".py",
   "mimetype": "text/x-python",
   "name": "python",
   "nbconvert_exporter": "python",
   "pygments_lexer": "ipython3",
   "version": "3.9.13"
  }
 },
 "nbformat": 4,
 "nbformat_minor": 5
}
