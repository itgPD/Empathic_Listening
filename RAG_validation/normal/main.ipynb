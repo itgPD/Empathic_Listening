{
 "cells": [
  {
   "cell_type": "markdown",
   "id": "5d643183",
   "metadata": {},
   "source": [
    "### 準備"
   ]
  },
  {
   "cell_type": "code",
   "execution_count": null,
   "id": "c8157bf1",
   "metadata": {},
   "outputs": [],
   "source": [
    "from utils.big_query import BigQuery\n",
    "import const\n",
    "from utils.search_document import (\n",
    "    subquery_search,\n",
    "    wakachi_search_hybrid,\n",
    "    vector_search,\n",
    "    hybrid_search,\n",
    "    search_RAGFUSION,\n",
    ")\n",
    "from utils.request_llm import request_openai_chat\n",
    "import prompt"
   ]
  },
  {
   "cell_type": "markdown",
   "id": "4715d6d2",
   "metadata": {},
   "source": [
    "### データの呼び出し"
   ]
  },
  {
   "cell_type": "code",
   "execution_count": null,
   "id": "2e6596b1",
   "metadata": {},
   "outputs": [],
   "source": [
    "big_query = BigQuery(const.PROJECT_ID, const.DATASET_ID)\n",
    "df_1000 = big_query.get_table_as_df(\"label_dataset_1000\")\n",
    "df_1000.shape"
   ]
  },
  {
   "cell_type": "code",
   "execution_count": null,
   "id": "df398c74",
   "metadata": {},
   "outputs": [],
   "source": [
    "df_500 = big_query.get_table_as_df(\"label_dataset_500\")\n",
    "df_500.shape"
   ]
  },
  {
   "cell_type": "code",
   "execution_count": null,
   "id": "c4033123",
   "metadata": {},
   "outputs": [],
   "source": [
    "big_query = BigQuery(const.PROJECT_ID, const.DATASET_ID)\n",
    "df = big_query.get_table_as_df(\"dataset_test\")\n",
    "\n",
    "df.shape"
   ]
  },
  {
   "cell_type": "markdown",
   "id": "0d424932",
   "metadata": {},
   "source": [
    "### 検索ケース1"
   ]
  },
  {
   "cell_type": "code",
   "execution_count": null,
   "id": "bc8be4b2",
   "metadata": {},
   "outputs": [],
   "source": [
    "search_text = \"リーンキャンバスにおける独自の価値提案を書く際のポイントについて教えてください\""
   ]
  },
  {
   "cell_type": "code",
   "execution_count": null,
   "id": "db2386af",
   "metadata": {
    "scrolled": true
   },
   "outputs": [],
   "source": [
    "text = vector_search(search_text, df)\n",
    "content = prompt.answer_prompt.format(\n",
    "    question=search_text, text=text, format=prompt.answer_format\n",
    ")\n",
    "response = request_openai_chat(prompt.system_prompt, content)\n",
    "print(response[\"answer\"])"
   ]
  },
  {
   "cell_type": "code",
   "execution_count": null,
   "id": "665d671d",
   "metadata": {},
   "outputs": [],
   "source": [
    "text = hybrid_search(search_text, df)\n",
    "content = prompt.answer_prompt.format(\n",
    "    question=search_text, text=text, format=prompt.answer_format\n",
    ")\n",
    "response = request_openai_chat(prompt.system_prompt, content)\n",
    "print(response[\"answer\"])"
   ]
  },
  {
   "cell_type": "code",
   "execution_count": null,
   "id": "e9f281a6",
   "metadata": {},
   "outputs": [],
   "source": [
    "text = subquery_search(search_text, df)\n",
    "content = prompt.answer_prompt.format(\n",
    "    question=search_text, text=text, format=prompt.answer_format\n",
    ")\n",
    "response = request_openai_chat(prompt.system_prompt, content)\n",
    "print(response[\"answer\"])"
   ]
  },
  {
   "cell_type": "code",
   "execution_count": null,
   "id": "caf6c09a",
   "metadata": {},
   "outputs": [],
   "source": [
    "text = wakachi_search_hybrid(search_text, df)\n",
    "content = prompt.answer_prompt.format(\n",
    "    question=search_text, text=text, format=prompt.answer_format\n",
    ")\n",
    "response = request_openai_chat(prompt.system_prompt, content)\n",
    "print(response[\"answer\"])"
   ]
  },
  {
   "cell_type": "code",
   "execution_count": null,
   "id": "541863ea",
   "metadata": {},
   "outputs": [],
   "source": []
  },
  {
   "cell_type": "markdown",
   "id": "703593d1",
   "metadata": {},
   "source": [
    "### 検索ケース2"
   ]
  },
  {
   "cell_type": "code",
   "execution_count": null,
   "id": "72536d4f",
   "metadata": {},
   "outputs": [],
   "source": [
    "search_text = \"リーンキャンバスとスタートアップキャンバスの違いを教えてください\""
   ]
  },
  {
   "cell_type": "code",
   "execution_count": null,
   "id": "149767fb",
   "metadata": {
    "scrolled": true
   },
   "outputs": [],
   "source": [
    "text = vector_search(search_text, df)\n",
    "content = prompt.answer_prompt.format(\n",
    "    question=search_text, text=text, format=prompt.answer_format\n",
    ")\n",
    "response = request_openai_chat(prompt.system_prompt, content)\n",
    "print(response[\"answer\"])"
   ]
  },
  {
   "cell_type": "code",
   "execution_count": null,
   "id": "62980eac",
   "metadata": {},
   "outputs": [],
   "source": [
    "text = hybrid_search(search_text, df)\n",
    "content = prompt.answer_prompt.format(\n",
    "    question=search_text, text=text, format=prompt.answer_format\n",
    ")\n",
    "response = request_openai_chat(prompt.system_prompt, content)\n",
    "print(response[\"answer\"])"
   ]
  },
  {
   "cell_type": "code",
   "execution_count": null,
   "id": "ed2279b5",
   "metadata": {},
   "outputs": [],
   "source": [
    "text = subquery_search(search_text, df)\n",
    "content = prompt.answer_prompt.format(\n",
    "    question=search_text, text=text, format=prompt.answer_format\n",
    ")\n",
    "response = request_openai_chat(prompt.system_prompt, content)\n",
    "print(response[\"answer\"])"
   ]
  },
  {
   "cell_type": "code",
   "execution_count": null,
   "id": "c7aa40ab",
   "metadata": {},
   "outputs": [],
   "source": [
    "text = wakachi_search_hybrid(search_text, df)\n",
    "content = prompt.answer_prompt.format(\n",
    "    question=search_text, text=text, format=prompt.answer_format\n",
    ")\n",
    "response = request_openai_chat(prompt.system_prompt, content)\n",
    "print(response[\"answer\"])"
   ]
  },
  {
   "cell_type": "code",
   "execution_count": null,
   "id": "5d69da17",
   "metadata": {},
   "outputs": [],
   "source": []
  }
 ],
 "metadata": {
  "kernelspec": {
   "display_name": "Python 3 (ipykernel)",
   "language": "python",
   "name": "python3"
  },
  "language_info": {
   "codemirror_mode": {
    "name": "ipython",
    "version": 3
   },
   "file_extension": ".py",
   "mimetype": "text/x-python",
   "name": "python",
   "nbconvert_exporter": "python",
   "pygments_lexer": "ipython3",
   "version": "3.9.13"
  }
 },
 "nbformat": 4,
 "nbformat_minor": 5
}
